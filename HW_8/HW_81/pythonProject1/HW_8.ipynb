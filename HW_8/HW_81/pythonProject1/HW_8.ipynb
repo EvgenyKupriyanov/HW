{
 "cells": [
  {
   "cell_type": "code",
   "execution_count": 1,
   "id": "4c21a41b-f86b-4ded-ad8d-65aa26393712",
   "metadata": {
    "scrolled": true
   },
   "outputs": [
    {
     "name": "stdout",
     "output_type": "stream",
     "text": [
      "Requirement already satisfied: pandas in c:\\users\\geny_\\onedrive\\рабочий стол\\обучение\\разметка данных\\hw_8\\hw_81\\pythonproject1\\.venv\\lib\\site-packages (2.2.3)\n",
      "Requirement already satisfied: numpy>=1.26.0 in c:\\users\\geny_\\onedrive\\рабочий стол\\обучение\\разметка данных\\hw_8\\hw_81\\pythonproject1\\.venv\\lib\\site-packages (from pandas) (2.2.1)\n",
      "Requirement already satisfied: python-dateutil>=2.8.2 in c:\\users\\geny_\\onedrive\\рабочий стол\\обучение\\разметка данных\\hw_8\\hw_81\\pythonproject1\\.venv\\lib\\site-packages (from pandas) (2.9.0.post0)\n",
      "Requirement already satisfied: pytz>=2020.1 in c:\\users\\geny_\\onedrive\\рабочий стол\\обучение\\разметка данных\\hw_8\\hw_81\\pythonproject1\\.venv\\lib\\site-packages (from pandas) (2024.2)\n",
      "Requirement already satisfied: tzdata>=2022.7 in c:\\users\\geny_\\onedrive\\рабочий стол\\обучение\\разметка данных\\hw_8\\hw_81\\pythonproject1\\.venv\\lib\\site-packages (from pandas) (2024.2)\n",
      "Requirement already satisfied: six>=1.5 in c:\\users\\geny_\\onedrive\\рабочий стол\\обучение\\разметка данных\\hw_8\\hw_81\\pythonproject1\\.venv\\lib\\site-packages (from python-dateutil>=2.8.2->pandas) (1.17.0)\n",
      "Note: you may need to restart the kernel to use updated packages.\n"
     ]
    },
    {
     "name": "stderr",
     "output_type": "stream",
     "text": [
      "\n",
      "[notice] A new release of pip is available: 23.2.1 -> 24.3.1\n",
      "[notice] To update, run: python.exe -m pip install --upgrade pip\n"
     ]
    }
   ],
   "source": [
    "pip install pandas"
   ]
  },
  {
   "cell_type": "code",
   "execution_count": 2,
   "id": "fe93de01-af31-4141-a2cd-7c8686223f80",
   "metadata": {},
   "outputs": [],
   "source": [
    "import pandas as pd"
   ]
  },
  {
   "cell_type": "code",
   "execution_count": 3,
   "id": "05fe1c92-6d6c-4c4f-8844-e9ee6168326b",
   "metadata": {},
   "outputs": [],
   "source": [
    "db = pd.read_csv('sample_submission.csv')"
   ]
  },
  {
   "cell_type": "code",
   "execution_count": 4,
   "id": "b4448a58-ef4c-4fdd-97b5-7aa97384681e",
   "metadata": {},
   "outputs": [],
   "source": [
    "db1 = pd.read_csv('test.csv')"
   ]
  },
  {
   "cell_type": "code",
   "execution_count": 5,
   "id": "32428b99-d486-457d-b3cd-8c27f462a0af",
   "metadata": {},
   "outputs": [
    {
     "data": {
      "text/html": [
       "<div>\n",
       "<style scoped>\n",
       "    .dataframe tbody tr th:only-of-type {\n",
       "        vertical-align: middle;\n",
       "    }\n",
       "\n",
       "    .dataframe tbody tr th {\n",
       "        vertical-align: top;\n",
       "    }\n",
       "\n",
       "    .dataframe thead th {\n",
       "        text-align: right;\n",
       "    }\n",
       "</style>\n",
       "<table border=\"1\" class=\"dataframe\">\n",
       "  <thead>\n",
       "    <tr style=\"text-align: right;\">\n",
       "      <th></th>\n",
       "      <th>Id</th>\n",
       "      <th>SalePrice</th>\n",
       "      <th>MSSubClass</th>\n",
       "      <th>MSZoning</th>\n",
       "      <th>LotFrontage</th>\n",
       "      <th>LotArea</th>\n",
       "      <th>Street</th>\n",
       "      <th>Alley</th>\n",
       "      <th>LotShape</th>\n",
       "      <th>LandContour</th>\n",
       "      <th>...</th>\n",
       "      <th>ScreenPorch</th>\n",
       "      <th>PoolArea</th>\n",
       "      <th>PoolQC</th>\n",
       "      <th>Fence</th>\n",
       "      <th>MiscFeature</th>\n",
       "      <th>MiscVal</th>\n",
       "      <th>MoSold</th>\n",
       "      <th>YrSold</th>\n",
       "      <th>SaleType</th>\n",
       "      <th>SaleCondition</th>\n",
       "    </tr>\n",
       "  </thead>\n",
       "  <tbody>\n",
       "    <tr>\n",
       "      <th>0</th>\n",
       "      <td>1461</td>\n",
       "      <td>169277.052498</td>\n",
       "      <td>20</td>\n",
       "      <td>RH</td>\n",
       "      <td>80.0</td>\n",
       "      <td>11622</td>\n",
       "      <td>Pave</td>\n",
       "      <td>NaN</td>\n",
       "      <td>Reg</td>\n",
       "      <td>Lvl</td>\n",
       "      <td>...</td>\n",
       "      <td>120</td>\n",
       "      <td>0</td>\n",
       "      <td>NaN</td>\n",
       "      <td>MnPrv</td>\n",
       "      <td>NaN</td>\n",
       "      <td>0</td>\n",
       "      <td>6</td>\n",
       "      <td>2010</td>\n",
       "      <td>WD</td>\n",
       "      <td>Normal</td>\n",
       "    </tr>\n",
       "    <tr>\n",
       "      <th>1</th>\n",
       "      <td>1462</td>\n",
       "      <td>187758.393989</td>\n",
       "      <td>20</td>\n",
       "      <td>RL</td>\n",
       "      <td>81.0</td>\n",
       "      <td>14267</td>\n",
       "      <td>Pave</td>\n",
       "      <td>NaN</td>\n",
       "      <td>IR1</td>\n",
       "      <td>Lvl</td>\n",
       "      <td>...</td>\n",
       "      <td>0</td>\n",
       "      <td>0</td>\n",
       "      <td>NaN</td>\n",
       "      <td>NaN</td>\n",
       "      <td>Gar2</td>\n",
       "      <td>12500</td>\n",
       "      <td>6</td>\n",
       "      <td>2010</td>\n",
       "      <td>WD</td>\n",
       "      <td>Normal</td>\n",
       "    </tr>\n",
       "    <tr>\n",
       "      <th>2</th>\n",
       "      <td>1463</td>\n",
       "      <td>183583.683570</td>\n",
       "      <td>60</td>\n",
       "      <td>RL</td>\n",
       "      <td>74.0</td>\n",
       "      <td>13830</td>\n",
       "      <td>Pave</td>\n",
       "      <td>NaN</td>\n",
       "      <td>IR1</td>\n",
       "      <td>Lvl</td>\n",
       "      <td>...</td>\n",
       "      <td>0</td>\n",
       "      <td>0</td>\n",
       "      <td>NaN</td>\n",
       "      <td>MnPrv</td>\n",
       "      <td>NaN</td>\n",
       "      <td>0</td>\n",
       "      <td>3</td>\n",
       "      <td>2010</td>\n",
       "      <td>WD</td>\n",
       "      <td>Normal</td>\n",
       "    </tr>\n",
       "    <tr>\n",
       "      <th>3</th>\n",
       "      <td>1464</td>\n",
       "      <td>179317.477511</td>\n",
       "      <td>60</td>\n",
       "      <td>RL</td>\n",
       "      <td>78.0</td>\n",
       "      <td>9978</td>\n",
       "      <td>Pave</td>\n",
       "      <td>NaN</td>\n",
       "      <td>IR1</td>\n",
       "      <td>Lvl</td>\n",
       "      <td>...</td>\n",
       "      <td>0</td>\n",
       "      <td>0</td>\n",
       "      <td>NaN</td>\n",
       "      <td>NaN</td>\n",
       "      <td>NaN</td>\n",
       "      <td>0</td>\n",
       "      <td>6</td>\n",
       "      <td>2010</td>\n",
       "      <td>WD</td>\n",
       "      <td>Normal</td>\n",
       "    </tr>\n",
       "    <tr>\n",
       "      <th>4</th>\n",
       "      <td>1465</td>\n",
       "      <td>150730.079977</td>\n",
       "      <td>120</td>\n",
       "      <td>RL</td>\n",
       "      <td>43.0</td>\n",
       "      <td>5005</td>\n",
       "      <td>Pave</td>\n",
       "      <td>NaN</td>\n",
       "      <td>IR1</td>\n",
       "      <td>HLS</td>\n",
       "      <td>...</td>\n",
       "      <td>144</td>\n",
       "      <td>0</td>\n",
       "      <td>NaN</td>\n",
       "      <td>NaN</td>\n",
       "      <td>NaN</td>\n",
       "      <td>0</td>\n",
       "      <td>1</td>\n",
       "      <td>2010</td>\n",
       "      <td>WD</td>\n",
       "      <td>Normal</td>\n",
       "    </tr>\n",
       "    <tr>\n",
       "      <th>...</th>\n",
       "      <td>...</td>\n",
       "      <td>...</td>\n",
       "      <td>...</td>\n",
       "      <td>...</td>\n",
       "      <td>...</td>\n",
       "      <td>...</td>\n",
       "      <td>...</td>\n",
       "      <td>...</td>\n",
       "      <td>...</td>\n",
       "      <td>...</td>\n",
       "      <td>...</td>\n",
       "      <td>...</td>\n",
       "      <td>...</td>\n",
       "      <td>...</td>\n",
       "      <td>...</td>\n",
       "      <td>...</td>\n",
       "      <td>...</td>\n",
       "      <td>...</td>\n",
       "      <td>...</td>\n",
       "      <td>...</td>\n",
       "      <td>...</td>\n",
       "    </tr>\n",
       "    <tr>\n",
       "      <th>1454</th>\n",
       "      <td>2915</td>\n",
       "      <td>167081.220949</td>\n",
       "      <td>160</td>\n",
       "      <td>RM</td>\n",
       "      <td>21.0</td>\n",
       "      <td>1936</td>\n",
       "      <td>Pave</td>\n",
       "      <td>NaN</td>\n",
       "      <td>Reg</td>\n",
       "      <td>Lvl</td>\n",
       "      <td>...</td>\n",
       "      <td>0</td>\n",
       "      <td>0</td>\n",
       "      <td>NaN</td>\n",
       "      <td>NaN</td>\n",
       "      <td>NaN</td>\n",
       "      <td>0</td>\n",
       "      <td>6</td>\n",
       "      <td>2006</td>\n",
       "      <td>WD</td>\n",
       "      <td>Normal</td>\n",
       "    </tr>\n",
       "    <tr>\n",
       "      <th>1455</th>\n",
       "      <td>2916</td>\n",
       "      <td>164788.778231</td>\n",
       "      <td>160</td>\n",
       "      <td>RM</td>\n",
       "      <td>21.0</td>\n",
       "      <td>1894</td>\n",
       "      <td>Pave</td>\n",
       "      <td>NaN</td>\n",
       "      <td>Reg</td>\n",
       "      <td>Lvl</td>\n",
       "      <td>...</td>\n",
       "      <td>0</td>\n",
       "      <td>0</td>\n",
       "      <td>NaN</td>\n",
       "      <td>NaN</td>\n",
       "      <td>NaN</td>\n",
       "      <td>0</td>\n",
       "      <td>4</td>\n",
       "      <td>2006</td>\n",
       "      <td>WD</td>\n",
       "      <td>Abnorml</td>\n",
       "    </tr>\n",
       "    <tr>\n",
       "      <th>1456</th>\n",
       "      <td>2917</td>\n",
       "      <td>219222.423400</td>\n",
       "      <td>20</td>\n",
       "      <td>RL</td>\n",
       "      <td>160.0</td>\n",
       "      <td>20000</td>\n",
       "      <td>Pave</td>\n",
       "      <td>NaN</td>\n",
       "      <td>Reg</td>\n",
       "      <td>Lvl</td>\n",
       "      <td>...</td>\n",
       "      <td>0</td>\n",
       "      <td>0</td>\n",
       "      <td>NaN</td>\n",
       "      <td>NaN</td>\n",
       "      <td>NaN</td>\n",
       "      <td>0</td>\n",
       "      <td>9</td>\n",
       "      <td>2006</td>\n",
       "      <td>WD</td>\n",
       "      <td>Abnorml</td>\n",
       "    </tr>\n",
       "    <tr>\n",
       "      <th>1457</th>\n",
       "      <td>2918</td>\n",
       "      <td>184924.279659</td>\n",
       "      <td>85</td>\n",
       "      <td>RL</td>\n",
       "      <td>62.0</td>\n",
       "      <td>10441</td>\n",
       "      <td>Pave</td>\n",
       "      <td>NaN</td>\n",
       "      <td>Reg</td>\n",
       "      <td>Lvl</td>\n",
       "      <td>...</td>\n",
       "      <td>0</td>\n",
       "      <td>0</td>\n",
       "      <td>NaN</td>\n",
       "      <td>MnPrv</td>\n",
       "      <td>Shed</td>\n",
       "      <td>700</td>\n",
       "      <td>7</td>\n",
       "      <td>2006</td>\n",
       "      <td>WD</td>\n",
       "      <td>Normal</td>\n",
       "    </tr>\n",
       "    <tr>\n",
       "      <th>1458</th>\n",
       "      <td>2919</td>\n",
       "      <td>187741.866657</td>\n",
       "      <td>60</td>\n",
       "      <td>RL</td>\n",
       "      <td>74.0</td>\n",
       "      <td>9627</td>\n",
       "      <td>Pave</td>\n",
       "      <td>NaN</td>\n",
       "      <td>Reg</td>\n",
       "      <td>Lvl</td>\n",
       "      <td>...</td>\n",
       "      <td>0</td>\n",
       "      <td>0</td>\n",
       "      <td>NaN</td>\n",
       "      <td>NaN</td>\n",
       "      <td>NaN</td>\n",
       "      <td>0</td>\n",
       "      <td>11</td>\n",
       "      <td>2006</td>\n",
       "      <td>WD</td>\n",
       "      <td>Normal</td>\n",
       "    </tr>\n",
       "  </tbody>\n",
       "</table>\n",
       "<p>1459 rows × 81 columns</p>\n",
       "</div>"
      ],
      "text/plain": [
       "        Id      SalePrice  MSSubClass MSZoning  LotFrontage  LotArea Street  \\\n",
       "0     1461  169277.052498          20       RH         80.0    11622   Pave   \n",
       "1     1462  187758.393989          20       RL         81.0    14267   Pave   \n",
       "2     1463  183583.683570          60       RL         74.0    13830   Pave   \n",
       "3     1464  179317.477511          60       RL         78.0     9978   Pave   \n",
       "4     1465  150730.079977         120       RL         43.0     5005   Pave   \n",
       "...    ...            ...         ...      ...          ...      ...    ...   \n",
       "1454  2915  167081.220949         160       RM         21.0     1936   Pave   \n",
       "1455  2916  164788.778231         160       RM         21.0     1894   Pave   \n",
       "1456  2917  219222.423400          20       RL        160.0    20000   Pave   \n",
       "1457  2918  184924.279659          85       RL         62.0    10441   Pave   \n",
       "1458  2919  187741.866657          60       RL         74.0     9627   Pave   \n",
       "\n",
       "     Alley LotShape LandContour  ... ScreenPorch PoolArea PoolQC  Fence  \\\n",
       "0      NaN      Reg         Lvl  ...         120        0    NaN  MnPrv   \n",
       "1      NaN      IR1         Lvl  ...           0        0    NaN    NaN   \n",
       "2      NaN      IR1         Lvl  ...           0        0    NaN  MnPrv   \n",
       "3      NaN      IR1         Lvl  ...           0        0    NaN    NaN   \n",
       "4      NaN      IR1         HLS  ...         144        0    NaN    NaN   \n",
       "...    ...      ...         ...  ...         ...      ...    ...    ...   \n",
       "1454   NaN      Reg         Lvl  ...           0        0    NaN    NaN   \n",
       "1455   NaN      Reg         Lvl  ...           0        0    NaN    NaN   \n",
       "1456   NaN      Reg         Lvl  ...           0        0    NaN    NaN   \n",
       "1457   NaN      Reg         Lvl  ...           0        0    NaN  MnPrv   \n",
       "1458   NaN      Reg         Lvl  ...           0        0    NaN    NaN   \n",
       "\n",
       "     MiscFeature MiscVal MoSold YrSold  SaleType  SaleCondition  \n",
       "0            NaN       0      6   2010        WD         Normal  \n",
       "1           Gar2   12500      6   2010        WD         Normal  \n",
       "2            NaN       0      3   2010        WD         Normal  \n",
       "3            NaN       0      6   2010        WD         Normal  \n",
       "4            NaN       0      1   2010        WD         Normal  \n",
       "...          ...     ...    ...    ...       ...            ...  \n",
       "1454         NaN       0      6   2006        WD         Normal  \n",
       "1455         NaN       0      4   2006        WD        Abnorml  \n",
       "1456         NaN       0      9   2006        WD        Abnorml  \n",
       "1457        Shed     700      7   2006        WD         Normal  \n",
       "1458         NaN       0     11   2006        WD         Normal  \n",
       "\n",
       "[1459 rows x 81 columns]"
      ]
     },
     "execution_count": 5,
     "metadata": {},
     "output_type": "execute_result"
    }
   ],
   "source": [
    "db2 = db.merge(db1,\n",
    "    left_on='Id',\n",
    "    right_on='Id'\n",
    ")\n",
    "db2"
   ]
  },
  {
   "cell_type": "code",
   "execution_count": 6,
   "id": "46b1acf5-277e-4019-9df0-b0a0e1d37351",
   "metadata": {},
   "outputs": [
    {
     "data": {
      "text/plain": [
       "<bound method NDFrame.head of         Id      SalePrice\n",
       "0     1461  169277.052498\n",
       "1     1462  187758.393989\n",
       "2     1463  183583.683570\n",
       "3     1464  179317.477511\n",
       "4     1465  150730.079977\n",
       "...    ...            ...\n",
       "1454  2915  167081.220949\n",
       "1455  2916  164788.778231\n",
       "1456  2917  219222.423400\n",
       "1457  2918  184924.279659\n",
       "1458  2919  187741.866657\n",
       "\n",
       "[1459 rows x 2 columns]>"
      ]
     },
     "execution_count": 6,
     "metadata": {},
     "output_type": "execute_result"
    }
   ],
   "source": [
    "db.head"
   ]
  },
  {
   "cell_type": "code",
   "execution_count": 7,
   "id": "5c904025-7431-4fea-b1e9-634d09eb052d",
   "metadata": {},
   "outputs": [
    {
     "data": {
      "text/plain": [
       "<bound method NDFrame.head of         Id  MSSubClass MSZoning  LotFrontage  LotArea Street Alley LotShape  \\\n",
       "0     1461          20       RH         80.0    11622   Pave   NaN      Reg   \n",
       "1     1462          20       RL         81.0    14267   Pave   NaN      IR1   \n",
       "2     1463          60       RL         74.0    13830   Pave   NaN      IR1   \n",
       "3     1464          60       RL         78.0     9978   Pave   NaN      IR1   \n",
       "4     1465         120       RL         43.0     5005   Pave   NaN      IR1   \n",
       "...    ...         ...      ...          ...      ...    ...   ...      ...   \n",
       "1454  2915         160       RM         21.0     1936   Pave   NaN      Reg   \n",
       "1455  2916         160       RM         21.0     1894   Pave   NaN      Reg   \n",
       "1456  2917          20       RL        160.0    20000   Pave   NaN      Reg   \n",
       "1457  2918          85       RL         62.0    10441   Pave   NaN      Reg   \n",
       "1458  2919          60       RL         74.0     9627   Pave   NaN      Reg   \n",
       "\n",
       "     LandContour Utilities  ... ScreenPorch PoolArea PoolQC  Fence  \\\n",
       "0            Lvl    AllPub  ...         120        0    NaN  MnPrv   \n",
       "1            Lvl    AllPub  ...           0        0    NaN    NaN   \n",
       "2            Lvl    AllPub  ...           0        0    NaN  MnPrv   \n",
       "3            Lvl    AllPub  ...           0        0    NaN    NaN   \n",
       "4            HLS    AllPub  ...         144        0    NaN    NaN   \n",
       "...          ...       ...  ...         ...      ...    ...    ...   \n",
       "1454         Lvl    AllPub  ...           0        0    NaN    NaN   \n",
       "1455         Lvl    AllPub  ...           0        0    NaN    NaN   \n",
       "1456         Lvl    AllPub  ...           0        0    NaN    NaN   \n",
       "1457         Lvl    AllPub  ...           0        0    NaN  MnPrv   \n",
       "1458         Lvl    AllPub  ...           0        0    NaN    NaN   \n",
       "\n",
       "     MiscFeature MiscVal MoSold  YrSold  SaleType  SaleCondition  \n",
       "0            NaN       0      6    2010        WD         Normal  \n",
       "1           Gar2   12500      6    2010        WD         Normal  \n",
       "2            NaN       0      3    2010        WD         Normal  \n",
       "3            NaN       0      6    2010        WD         Normal  \n",
       "4            NaN       0      1    2010        WD         Normal  \n",
       "...          ...     ...    ...     ...       ...            ...  \n",
       "1454         NaN       0      6    2006        WD         Normal  \n",
       "1455         NaN       0      4    2006        WD        Abnorml  \n",
       "1456         NaN       0      9    2006        WD        Abnorml  \n",
       "1457        Shed     700      7    2006        WD         Normal  \n",
       "1458         NaN       0     11    2006        WD         Normal  \n",
       "\n",
       "[1459 rows x 80 columns]>"
      ]
     },
     "execution_count": 7,
     "metadata": {},
     "output_type": "execute_result"
    }
   ],
   "source": [
    "db1.head\n"
   ]
  },
  {
   "cell_type": "code",
   "execution_count": 8,
   "id": "3673ec9a-ba1a-457f-9320-58f592618e42",
   "metadata": {},
   "outputs": [
    {
     "data": {
      "text/plain": [
       "<bound method NDFrame.head of         Id      SalePrice  MSSubClass MSZoning  LotFrontage  LotArea Street  \\\n",
       "0     1461  169277.052498          20       RH         80.0    11622   Pave   \n",
       "1     1462  187758.393989          20       RL         81.0    14267   Pave   \n",
       "2     1463  183583.683570          60       RL         74.0    13830   Pave   \n",
       "3     1464  179317.477511          60       RL         78.0     9978   Pave   \n",
       "4     1465  150730.079977         120       RL         43.0     5005   Pave   \n",
       "...    ...            ...         ...      ...          ...      ...    ...   \n",
       "1454  2915  167081.220949         160       RM         21.0     1936   Pave   \n",
       "1455  2916  164788.778231         160       RM         21.0     1894   Pave   \n",
       "1456  2917  219222.423400          20       RL        160.0    20000   Pave   \n",
       "1457  2918  184924.279659          85       RL         62.0    10441   Pave   \n",
       "1458  2919  187741.866657          60       RL         74.0     9627   Pave   \n",
       "\n",
       "     Alley LotShape LandContour  ... ScreenPorch PoolArea PoolQC  Fence  \\\n",
       "0      NaN      Reg         Lvl  ...         120        0    NaN  MnPrv   \n",
       "1      NaN      IR1         Lvl  ...           0        0    NaN    NaN   \n",
       "2      NaN      IR1         Lvl  ...           0        0    NaN  MnPrv   \n",
       "3      NaN      IR1         Lvl  ...           0        0    NaN    NaN   \n",
       "4      NaN      IR1         HLS  ...         144        0    NaN    NaN   \n",
       "...    ...      ...         ...  ...         ...      ...    ...    ...   \n",
       "1454   NaN      Reg         Lvl  ...           0        0    NaN    NaN   \n",
       "1455   NaN      Reg         Lvl  ...           0        0    NaN    NaN   \n",
       "1456   NaN      Reg         Lvl  ...           0        0    NaN    NaN   \n",
       "1457   NaN      Reg         Lvl  ...           0        0    NaN  MnPrv   \n",
       "1458   NaN      Reg         Lvl  ...           0        0    NaN    NaN   \n",
       "\n",
       "     MiscFeature MiscVal MoSold YrSold  SaleType  SaleCondition  \n",
       "0            NaN       0      6   2010        WD         Normal  \n",
       "1           Gar2   12500      6   2010        WD         Normal  \n",
       "2            NaN       0      3   2010        WD         Normal  \n",
       "3            NaN       0      6   2010        WD         Normal  \n",
       "4            NaN       0      1   2010        WD         Normal  \n",
       "...          ...     ...    ...    ...       ...            ...  \n",
       "1454         NaN       0      6   2006        WD         Normal  \n",
       "1455         NaN       0      4   2006        WD        Abnorml  \n",
       "1456         NaN       0      9   2006        WD        Abnorml  \n",
       "1457        Shed     700      7   2006        WD         Normal  \n",
       "1458         NaN       0     11   2006        WD         Normal  \n",
       "\n",
       "[1459 rows x 81 columns]>"
      ]
     },
     "execution_count": 8,
     "metadata": {},
     "output_type": "execute_result"
    }
   ],
   "source": [
    "db2.head"
   ]
  },
  {
   "cell_type": "code",
   "execution_count": 9,
   "id": "fd030e06-6bf0-48f3-9e6a-8f60c57e819d",
   "metadata": {},
   "outputs": [
    {
     "name": "stdout",
     "output_type": "stream",
     "text": [
      "<class 'pandas.core.frame.DataFrame'>\n",
      "RangeIndex: 1459 entries, 0 to 1458\n",
      "Data columns (total 81 columns):\n",
      " #   Column         Non-Null Count  Dtype  \n",
      "---  ------         --------------  -----  \n",
      " 0   Id             1459 non-null   int64  \n",
      " 1   SalePrice      1459 non-null   float64\n",
      " 2   MSSubClass     1459 non-null   int64  \n",
      " 3   MSZoning       1455 non-null   object \n",
      " 4   LotFrontage    1232 non-null   float64\n",
      " 5   LotArea        1459 non-null   int64  \n",
      " 6   Street         1459 non-null   object \n",
      " 7   Alley          107 non-null    object \n",
      " 8   LotShape       1459 non-null   object \n",
      " 9   LandContour    1459 non-null   object \n",
      " 10  Utilities      1457 non-null   object \n",
      " 11  LotConfig      1459 non-null   object \n",
      " 12  LandSlope      1459 non-null   object \n",
      " 13  Neighborhood   1459 non-null   object \n",
      " 14  Condition1     1459 non-null   object \n",
      " 15  Condition2     1459 non-null   object \n",
      " 16  BldgType       1459 non-null   object \n",
      " 17  HouseStyle     1459 non-null   object \n",
      " 18  OverallQual    1459 non-null   int64  \n",
      " 19  OverallCond    1459 non-null   int64  \n",
      " 20  YearBuilt      1459 non-null   int64  \n",
      " 21  YearRemodAdd   1459 non-null   int64  \n",
      " 22  RoofStyle      1459 non-null   object \n",
      " 23  RoofMatl       1459 non-null   object \n",
      " 24  Exterior1st    1458 non-null   object \n",
      " 25  Exterior2nd    1458 non-null   object \n",
      " 26  MasVnrType     565 non-null    object \n",
      " 27  MasVnrArea     1444 non-null   float64\n",
      " 28  ExterQual      1459 non-null   object \n",
      " 29  ExterCond      1459 non-null   object \n",
      " 30  Foundation     1459 non-null   object \n",
      " 31  BsmtQual       1415 non-null   object \n",
      " 32  BsmtCond       1414 non-null   object \n",
      " 33  BsmtExposure   1415 non-null   object \n",
      " 34  BsmtFinType1   1417 non-null   object \n",
      " 35  BsmtFinSF1     1458 non-null   float64\n",
      " 36  BsmtFinType2   1417 non-null   object \n",
      " 37  BsmtFinSF2     1458 non-null   float64\n",
      " 38  BsmtUnfSF      1458 non-null   float64\n",
      " 39  TotalBsmtSF    1458 non-null   float64\n",
      " 40  Heating        1459 non-null   object \n",
      " 41  HeatingQC      1459 non-null   object \n",
      " 42  CentralAir     1459 non-null   object \n",
      " 43  Electrical     1459 non-null   object \n",
      " 44  1stFlrSF       1459 non-null   int64  \n",
      " 45  2ndFlrSF       1459 non-null   int64  \n",
      " 46  LowQualFinSF   1459 non-null   int64  \n",
      " 47  GrLivArea      1459 non-null   int64  \n",
      " 48  BsmtFullBath   1457 non-null   float64\n",
      " 49  BsmtHalfBath   1457 non-null   float64\n",
      " 50  FullBath       1459 non-null   int64  \n",
      " 51  HalfBath       1459 non-null   int64  \n",
      " 52  BedroomAbvGr   1459 non-null   int64  \n",
      " 53  KitchenAbvGr   1459 non-null   int64  \n",
      " 54  KitchenQual    1458 non-null   object \n",
      " 55  TotRmsAbvGrd   1459 non-null   int64  \n",
      " 56  Functional     1457 non-null   object \n",
      " 57  Fireplaces     1459 non-null   int64  \n",
      " 58  FireplaceQu    729 non-null    object \n",
      " 59  GarageType     1383 non-null   object \n",
      " 60  GarageYrBlt    1381 non-null   float64\n",
      " 61  GarageFinish   1381 non-null   object \n",
      " 62  GarageCars     1458 non-null   float64\n",
      " 63  GarageArea     1458 non-null   float64\n",
      " 64  GarageQual     1381 non-null   object \n",
      " 65  GarageCond     1381 non-null   object \n",
      " 66  PavedDrive     1459 non-null   object \n",
      " 67  WoodDeckSF     1459 non-null   int64  \n",
      " 68  OpenPorchSF    1459 non-null   int64  \n",
      " 69  EnclosedPorch  1459 non-null   int64  \n",
      " 70  3SsnPorch      1459 non-null   int64  \n",
      " 71  ScreenPorch    1459 non-null   int64  \n",
      " 72  PoolArea       1459 non-null   int64  \n",
      " 73  PoolQC         3 non-null      object \n",
      " 74  Fence          290 non-null    object \n",
      " 75  MiscFeature    51 non-null     object \n",
      " 76  MiscVal        1459 non-null   int64  \n",
      " 77  MoSold         1459 non-null   int64  \n",
      " 78  YrSold         1459 non-null   int64  \n",
      " 79  SaleType       1458 non-null   object \n",
      " 80  SaleCondition  1459 non-null   object \n",
      "dtypes: float64(12), int64(26), object(43)\n",
      "memory usage: 923.4+ KB\n"
     ]
    }
   ],
   "source": [
    "db2.info()\n"
   ]
  },
  {
   "cell_type": "code",
   "execution_count": 10,
   "id": "95969e84-1ce1-4906-9bef-9b9214a8bd17",
   "metadata": {},
   "outputs": [
    {
     "data": {
      "text/plain": [
       "Id                 0\n",
       "SalePrice          0\n",
       "MSSubClass         0\n",
       "MSZoning           4\n",
       "LotFrontage      227\n",
       "                ... \n",
       "MiscVal            0\n",
       "MoSold             0\n",
       "YrSold             0\n",
       "SaleType           1\n",
       "SaleCondition      0\n",
       "Length: 81, dtype: int64"
      ]
     },
     "execution_count": 10,
     "metadata": {},
     "output_type": "execute_result"
    }
   ],
   "source": [
    "db2.isnull().sum()"
   ]
  },
  {
   "cell_type": "code",
   "execution_count": 11,
   "id": "a177c741-96d4-4fc2-8655-36612cb06cf2",
   "metadata": {},
   "outputs": [
    {
     "data": {
      "text/plain": [
       "np.float64(68.58035714285714)"
      ]
     },
     "execution_count": 11,
     "metadata": {},
     "output_type": "execute_result"
    }
   ],
   "source": [
    "mean_lotFrontage = db2['LotFrontage'].mean()\n",
    "mean_lotFrontage"
   ]
  },
  {
   "cell_type": "code",
   "execution_count": 12,
   "id": "2153d8a1-4476-4c5a-8fb9-241362e01a61",
   "metadata": {},
   "outputs": [],
   "source": [
    "db2['LotFrontage'] = db2['LotFrontage'].fillna(mean_lotFrontage)"
   ]
  },
  {
   "cell_type": "code",
   "execution_count": 13,
   "id": "21c0fbdc-4765-4af9-b02d-0162315c8f77",
   "metadata": {},
   "outputs": [
    {
     "name": "stdout",
     "output_type": "stream",
     "text": [
      "<class 'pandas.core.frame.DataFrame'>\n",
      "RangeIndex: 1459 entries, 0 to 1458\n",
      "Data columns (total 81 columns):\n",
      " #   Column         Non-Null Count  Dtype  \n",
      "---  ------         --------------  -----  \n",
      " 0   Id             1459 non-null   int64  \n",
      " 1   SalePrice      1459 non-null   float64\n",
      " 2   MSSubClass     1459 non-null   int64  \n",
      " 3   MSZoning       1455 non-null   object \n",
      " 4   LotFrontage    1459 non-null   float64\n",
      " 5   LotArea        1459 non-null   int64  \n",
      " 6   Street         1459 non-null   object \n",
      " 7   Alley          107 non-null    object \n",
      " 8   LotShape       1459 non-null   object \n",
      " 9   LandContour    1459 non-null   object \n",
      " 10  Utilities      1457 non-null   object \n",
      " 11  LotConfig      1459 non-null   object \n",
      " 12  LandSlope      1459 non-null   object \n",
      " 13  Neighborhood   1459 non-null   object \n",
      " 14  Condition1     1459 non-null   object \n",
      " 15  Condition2     1459 non-null   object \n",
      " 16  BldgType       1459 non-null   object \n",
      " 17  HouseStyle     1459 non-null   object \n",
      " 18  OverallQual    1459 non-null   int64  \n",
      " 19  OverallCond    1459 non-null   int64  \n",
      " 20  YearBuilt      1459 non-null   int64  \n",
      " 21  YearRemodAdd   1459 non-null   int64  \n",
      " 22  RoofStyle      1459 non-null   object \n",
      " 23  RoofMatl       1459 non-null   object \n",
      " 24  Exterior1st    1458 non-null   object \n",
      " 25  Exterior2nd    1458 non-null   object \n",
      " 26  MasVnrType     565 non-null    object \n",
      " 27  MasVnrArea     1444 non-null   float64\n",
      " 28  ExterQual      1459 non-null   object \n",
      " 29  ExterCond      1459 non-null   object \n",
      " 30  Foundation     1459 non-null   object \n",
      " 31  BsmtQual       1415 non-null   object \n",
      " 32  BsmtCond       1414 non-null   object \n",
      " 33  BsmtExposure   1415 non-null   object \n",
      " 34  BsmtFinType1   1417 non-null   object \n",
      " 35  BsmtFinSF1     1458 non-null   float64\n",
      " 36  BsmtFinType2   1417 non-null   object \n",
      " 37  BsmtFinSF2     1458 non-null   float64\n",
      " 38  BsmtUnfSF      1458 non-null   float64\n",
      " 39  TotalBsmtSF    1458 non-null   float64\n",
      " 40  Heating        1459 non-null   object \n",
      " 41  HeatingQC      1459 non-null   object \n",
      " 42  CentralAir     1459 non-null   object \n",
      " 43  Electrical     1459 non-null   object \n",
      " 44  1stFlrSF       1459 non-null   int64  \n",
      " 45  2ndFlrSF       1459 non-null   int64  \n",
      " 46  LowQualFinSF   1459 non-null   int64  \n",
      " 47  GrLivArea      1459 non-null   int64  \n",
      " 48  BsmtFullBath   1457 non-null   float64\n",
      " 49  BsmtHalfBath   1457 non-null   float64\n",
      " 50  FullBath       1459 non-null   int64  \n",
      " 51  HalfBath       1459 non-null   int64  \n",
      " 52  BedroomAbvGr   1459 non-null   int64  \n",
      " 53  KitchenAbvGr   1459 non-null   int64  \n",
      " 54  KitchenQual    1458 non-null   object \n",
      " 55  TotRmsAbvGrd   1459 non-null   int64  \n",
      " 56  Functional     1457 non-null   object \n",
      " 57  Fireplaces     1459 non-null   int64  \n",
      " 58  FireplaceQu    729 non-null    object \n",
      " 59  GarageType     1383 non-null   object \n",
      " 60  GarageYrBlt    1381 non-null   float64\n",
      " 61  GarageFinish   1381 non-null   object \n",
      " 62  GarageCars     1458 non-null   float64\n",
      " 63  GarageArea     1458 non-null   float64\n",
      " 64  GarageQual     1381 non-null   object \n",
      " 65  GarageCond     1381 non-null   object \n",
      " 66  PavedDrive     1459 non-null   object \n",
      " 67  WoodDeckSF     1459 non-null   int64  \n",
      " 68  OpenPorchSF    1459 non-null   int64  \n",
      " 69  EnclosedPorch  1459 non-null   int64  \n",
      " 70  3SsnPorch      1459 non-null   int64  \n",
      " 71  ScreenPorch    1459 non-null   int64  \n",
      " 72  PoolArea       1459 non-null   int64  \n",
      " 73  PoolQC         3 non-null      object \n",
      " 74  Fence          290 non-null    object \n",
      " 75  MiscFeature    51 non-null     object \n",
      " 76  MiscVal        1459 non-null   int64  \n",
      " 77  MoSold         1459 non-null   int64  \n",
      " 78  YrSold         1459 non-null   int64  \n",
      " 79  SaleType       1458 non-null   object \n",
      " 80  SaleCondition  1459 non-null   object \n",
      "dtypes: float64(12), int64(26), object(43)\n",
      "memory usage: 923.4+ KB\n"
     ]
    }
   ],
   "source": [
    "db2.info()\n"
   ]
  },
  {
   "cell_type": "code",
   "execution_count": 14,
   "id": "a178330f-ed56-4074-b823-4ffddf85125c",
   "metadata": {},
   "outputs": [
    {
     "data": {
      "text/html": [
       "<div>\n",
       "<style scoped>\n",
       "    .dataframe tbody tr th:only-of-type {\n",
       "        vertical-align: middle;\n",
       "    }\n",
       "\n",
       "    .dataframe tbody tr th {\n",
       "        vertical-align: top;\n",
       "    }\n",
       "\n",
       "    .dataframe thead th {\n",
       "        text-align: right;\n",
       "    }\n",
       "</style>\n",
       "<table border=\"1\" class=\"dataframe\">\n",
       "  <thead>\n",
       "    <tr style=\"text-align: right;\">\n",
       "      <th></th>\n",
       "      <th>Id</th>\n",
       "      <th>SalePrice</th>\n",
       "      <th>MSSubClass</th>\n",
       "      <th>MSZoning</th>\n",
       "      <th>LotFrontage</th>\n",
       "      <th>LotArea</th>\n",
       "      <th>Street</th>\n",
       "      <th>Alley</th>\n",
       "      <th>LotShape</th>\n",
       "      <th>LandContour</th>\n",
       "      <th>...</th>\n",
       "      <th>ScreenPorch</th>\n",
       "      <th>PoolArea</th>\n",
       "      <th>PoolQC</th>\n",
       "      <th>Fence</th>\n",
       "      <th>MiscFeature</th>\n",
       "      <th>MiscVal</th>\n",
       "      <th>MoSold</th>\n",
       "      <th>YrSold</th>\n",
       "      <th>SaleType</th>\n",
       "      <th>SaleCondition</th>\n",
       "    </tr>\n",
       "  </thead>\n",
       "  <tbody>\n",
       "  </tbody>\n",
       "</table>\n",
       "<p>0 rows × 81 columns</p>\n",
       "</div>"
      ],
      "text/plain": [
       "Empty DataFrame\n",
       "Columns: [Id, SalePrice, MSSubClass, MSZoning, LotFrontage, LotArea, Street, Alley, LotShape, LandContour, Utilities, LotConfig, LandSlope, Neighborhood, Condition1, Condition2, BldgType, HouseStyle, OverallQual, OverallCond, YearBuilt, YearRemodAdd, RoofStyle, RoofMatl, Exterior1st, Exterior2nd, MasVnrType, MasVnrArea, ExterQual, ExterCond, Foundation, BsmtQual, BsmtCond, BsmtExposure, BsmtFinType1, BsmtFinSF1, BsmtFinType2, BsmtFinSF2, BsmtUnfSF, TotalBsmtSF, Heating, HeatingQC, CentralAir, Electrical, 1stFlrSF, 2ndFlrSF, LowQualFinSF, GrLivArea, BsmtFullBath, BsmtHalfBath, FullBath, HalfBath, BedroomAbvGr, KitchenAbvGr, KitchenQual, TotRmsAbvGrd, Functional, Fireplaces, FireplaceQu, GarageType, GarageYrBlt, GarageFinish, GarageCars, GarageArea, GarageQual, GarageCond, PavedDrive, WoodDeckSF, OpenPorchSF, EnclosedPorch, 3SsnPorch, ScreenPorch, PoolArea, PoolQC, Fence, MiscFeature, MiscVal, MoSold, YrSold, SaleType, SaleCondition]\n",
       "Index: []\n",
       "\n",
       "[0 rows x 81 columns]"
      ]
     },
     "execution_count": 14,
     "metadata": {},
     "output_type": "execute_result"
    }
   ],
   "source": [
    "duplicates = db2.duplicated()\n",
    "duplicates_df = db2[duplicates]\n",
    "duplicates_df"
   ]
  },
  {
   "cell_type": "code",
   "execution_count": 15,
   "id": "a75d5761-6c24-4a68-a31b-fdfa7117d3a0",
   "metadata": {},
   "outputs": [
    {
     "name": "stdout",
     "output_type": "stream",
     "text": [
      "<class 'pandas.core.frame.DataFrame'>\n",
      "RangeIndex: 1459 entries, 0 to 1458\n",
      "Data columns (total 4 columns):\n",
      " #   Column       Non-Null Count  Dtype  \n",
      "---  ------       --------------  -----  \n",
      " 0   SalePrice    1459 non-null   float64\n",
      " 1   OverallQual  1459 non-null   int64  \n",
      " 2   GrLivArea    1459 non-null   int64  \n",
      " 3   GarageCars   1458 non-null   float64\n",
      "dtypes: float64(2), int64(2)\n",
      "memory usage: 45.7 KB\n"
     ]
    }
   ],
   "source": [
    "db3 = db2[['SalePrice', 'OverallQual', 'GrLivArea', 'GarageCars']]\n",
    "db3.info()"
   ]
  },
  {
   "cell_type": "code",
   "execution_count": 16,
   "id": "8b6daa7f-cc5d-4bae-b313-4bc070350b6a",
   "metadata": {},
   "outputs": [
    {
     "name": "stdout",
     "output_type": "stream",
     "text": [
      "Requirement already satisfied: seaborn in c:\\users\\geny_\\onedrive\\рабочий стол\\обучение\\разметка данных\\hw_8\\hw_81\\pythonproject1\\.venv\\lib\\site-packages (0.13.2)\n",
      "Requirement already satisfied: numpy!=1.24.0,>=1.20 in c:\\users\\geny_\\onedrive\\рабочий стол\\обучение\\разметка данных\\hw_8\\hw_81\\pythonproject1\\.venv\\lib\\site-packages (from seaborn) (2.2.1)\n",
      "Requirement already satisfied: pandas>=1.2 in c:\\users\\geny_\\onedrive\\рабочий стол\\обучение\\разметка данных\\hw_8\\hw_81\\pythonproject1\\.venv\\lib\\site-packages (from seaborn) (2.2.3)\n",
      "Requirement already satisfied: matplotlib!=3.6.1,>=3.4 in c:\\users\\geny_\\onedrive\\рабочий стол\\обучение\\разметка данных\\hw_8\\hw_81\\pythonproject1\\.venv\\lib\\site-packages (from seaborn) (3.10.0)\n",
      "Requirement already satisfied: contourpy>=1.0.1 in c:\\users\\geny_\\onedrive\\рабочий стол\\обучение\\разметка данных\\hw_8\\hw_81\\pythonproject1\\.venv\\lib\\site-packages (from matplotlib!=3.6.1,>=3.4->seaborn) (1.3.1)\n",
      "Requirement already satisfied: cycler>=0.10 in c:\\users\\geny_\\onedrive\\рабочий стол\\обучение\\разметка данных\\hw_8\\hw_81\\pythonproject1\\.venv\\lib\\site-packages (from matplotlib!=3.6.1,>=3.4->seaborn) (0.12.1)\n",
      "Requirement already satisfied: fonttools>=4.22.0 in c:\\users\\geny_\\onedrive\\рабочий стол\\обучение\\разметка данных\\hw_8\\hw_81\\pythonproject1\\.venv\\lib\\site-packages (from matplotlib!=3.6.1,>=3.4->seaborn) (4.55.3)\n",
      "Requirement already satisfied: kiwisolver>=1.3.1 in c:\\users\\geny_\\onedrive\\рабочий стол\\обучение\\разметка данных\\hw_8\\hw_81\\pythonproject1\\.venv\\lib\\site-packages (from matplotlib!=3.6.1,>=3.4->seaborn) (1.4.8)\n",
      "Requirement already satisfied: packaging>=20.0 in c:\\users\\geny_\\onedrive\\рабочий стол\\обучение\\разметка данных\\hw_8\\hw_81\\pythonproject1\\.venv\\lib\\site-packages (from matplotlib!=3.6.1,>=3.4->seaborn) (24.2)\n",
      "Requirement already satisfied: pillow>=8 in c:\\users\\geny_\\onedrive\\рабочий стол\\обучение\\разметка данных\\hw_8\\hw_81\\pythonproject1\\.venv\\lib\\site-packages (from matplotlib!=3.6.1,>=3.4->seaborn) (11.1.0)\n",
      "Requirement already satisfied: pyparsing>=2.3.1 in c:\\users\\geny_\\onedrive\\рабочий стол\\обучение\\разметка данных\\hw_8\\hw_81\\pythonproject1\\.venv\\lib\\site-packages (from matplotlib!=3.6.1,>=3.4->seaborn) (3.2.1)\n",
      "Requirement already satisfied: python-dateutil>=2.7 in c:\\users\\geny_\\onedrive\\рабочий стол\\обучение\\разметка данных\\hw_8\\hw_81\\pythonproject1\\.venv\\lib\\site-packages (from matplotlib!=3.6.1,>=3.4->seaborn) (2.9.0.post0)\n",
      "Requirement already satisfied: pytz>=2020.1 in c:\\users\\geny_\\onedrive\\рабочий стол\\обучение\\разметка данных\\hw_8\\hw_81\\pythonproject1\\.venv\\lib\\site-packages (from pandas>=1.2->seaborn) (2024.2)\n",
      "Requirement already satisfied: tzdata>=2022.7 in c:\\users\\geny_\\onedrive\\рабочий стол\\обучение\\разметка данных\\hw_8\\hw_81\\pythonproject1\\.venv\\lib\\site-packages (from pandas>=1.2->seaborn) (2024.2)\n",
      "Requirement already satisfied: six>=1.5 in c:\\users\\geny_\\onedrive\\рабочий стол\\обучение\\разметка данных\\hw_8\\hw_81\\pythonproject1\\.venv\\lib\\site-packages (from python-dateutil>=2.7->matplotlib!=3.6.1,>=3.4->seaborn) (1.17.0)\n",
      "Note: you may need to restart the kernel to use updated packages.\n"
     ]
    },
    {
     "name": "stderr",
     "output_type": "stream",
     "text": [
      "\n",
      "[notice] A new release of pip is available: 23.2.1 -> 24.3.1\n",
      "[notice] To update, run: python.exe -m pip install --upgrade pip\n"
     ]
    }
   ],
   "source": [
    "pip install seaborn"
   ]
  },
  {
   "cell_type": "code",
   "execution_count": 17,
   "id": "266ac925-dc8c-4408-a6d7-69b50334f8c7",
   "metadata": {},
   "outputs": [
    {
     "data": {
      "text/plain": [
       "<seaborn.axisgrid.PairGrid at 0x1b10b08a4b0>"
      ]
     },
     "execution_count": 17,
     "metadata": {},
     "output_type": "execute_result"
    },
    {
     "data": {
      "image/png": "[encoded data removed]",
      "text/plain": [
       "<Figure size 852.625x750 with 12 Axes>"
      ]
     },
     "metadata": {},
     "output_type": "display_data"
    }
   ],
   "source": [
    "import seaborn as sns\n",
    "sns.pairplot(db3, hue='SalePrice')"
   ]
  },
  {
   "cell_type": "code",
   "execution_count": 18,
   "id": "1a5b3b33-07d8-4be4-87b2-e1d615cb3b10",
   "metadata": {},
   "outputs": [
    {
     "data": {
      "text/plain": [
       "<function matplotlib.pyplot.show(close=None, block=None)>"
      ]
     },
     "execution_count": 18,
     "metadata": {},
     "output_type": "execute_result"
    },
    {
     "data": {
      "image/png": "[encoded data removed]",
      "text/plain": [
       "<Figure size 640x480 with 1 Axes>"
      ]
     },
     "metadata": {},
     "output_type": "display_data"
    }
   ],
   "source": [
    "import matplotlib.pyplot as plt\n",
    "category_counts = db3['SalePrice'].value_counts()\n",
    "category_counts\n",
    "plt.bar(category_counts.index, category_counts.values)\n",
    "plt.show"
   ]
  },
  {
   "cell_type": "code",
   "execution_count": 19,
   "id": "4284f7dd-842b-4333-a941-b354102882f8",
   "metadata": {},
   "outputs": [
    {
     "data": {
      "image/png": "[encoded data removed]",
      "text/plain": [
       "<Figure size 640x480 with 1 Axes>"
      ]
     },
     "metadata": {},
     "output_type": "display_data"
    }
   ],
   "source": [
    "plt.hist(db3['SalePrice'])\n",
    "plt.show()"
   ]
  },
  {
   "cell_type": "code",
   "execution_count": 20,
   "id": "39bb9711-fd7e-426f-a744-ea4b99069c73",
   "metadata": {},
   "outputs": [
    {
     "data": {
      "image/png": "[encoded data removed]",
      "text/plain": [
       "<Figure size 640x480 with 1 Axes>"
      ]
     },
     "metadata": {},
     "output_type": "display_data"
    }
   ],
   "source": [
    "plt.hist(db3['OverallQual'])\n",
    "plt.show()"
   ]
  },
  {
   "cell_type": "code",
   "execution_count": 21,
   "id": "37809027-57d2-4ccf-94ef-8fe887b259ab",
   "metadata": {},
   "outputs": [
    {
     "data": {
      "image/png": "[encoded data removed]",
      "text/plain": [
       "<Figure size 640x480 with 1 Axes>"
      ]
     },
     "metadata": {},
     "output_type": "display_data"
    }
   ],
   "source": [
    "plt.hist(db3['GrLivArea'])\n",
    "plt.show()"
   ]
  },
  {
   "cell_type": "code",
   "execution_count": 22,
   "id": "0d00614f-e727-4e0c-b372-cdd9bf232432",
   "metadata": {},
   "outputs": [
    {
     "data": {
      "image/png": "[encoded data removed]",
      "text/plain": [
       "<Figure size 640x480 with 1 Axes>"
      ]
     },
     "metadata": {},
     "output_type": "display_data"
    }
   ],
   "source": [
    "plt.hist(db3['GarageCars'])\n",
    "plt.xlabel('GarageCars')\n",
    "plt.ylabel('Count')\n",
    "plt.show()"
   ]
  },
  {
   "cell_type": "code",
   "execution_count": 23,
   "id": "2ac29549-5146-407b-94b8-d6af4501ef54",
   "metadata": {},
   "outputs": [
    {
     "data": {
      "text/html": [
       "<div>\n",
       "<style scoped>\n",
       "    .dataframe tbody tr th:only-of-type {\n",
       "        vertical-align: middle;\n",
       "    }\n",
       "\n",
       "    .dataframe tbody tr th {\n",
       "        vertical-align: top;\n",
       "    }\n",
       "\n",
       "    .dataframe thead th {\n",
       "        text-align: right;\n",
       "    }\n",
       "</style>\n",
       "<table border=\"1\" class=\"dataframe\">\n",
       "  <thead>\n",
       "    <tr style=\"text-align: right;\">\n",
       "      <th></th>\n",
       "      <th>SalePrice</th>\n",
       "      <th>OverallQual</th>\n",
       "      <th>GrLivArea</th>\n",
       "      <th>GarageCars</th>\n",
       "    </tr>\n",
       "  </thead>\n",
       "  <tbody>\n",
       "    <tr>\n",
       "      <th>count</th>\n",
       "      <td>1459.000000</td>\n",
       "      <td>1459.000000</td>\n",
       "      <td>1459.000000</td>\n",
       "      <td>1458.000000</td>\n",
       "    </tr>\n",
       "    <tr>\n",
       "      <th>mean</th>\n",
       "      <td>179183.918243</td>\n",
       "      <td>6.078821</td>\n",
       "      <td>1486.045922</td>\n",
       "      <td>1.766118</td>\n",
       "    </tr>\n",
       "    <tr>\n",
       "      <th>std</th>\n",
       "      <td>16518.303051</td>\n",
       "      <td>1.436812</td>\n",
       "      <td>485.566099</td>\n",
       "      <td>0.775945</td>\n",
       "    </tr>\n",
       "    <tr>\n",
       "      <th>min</th>\n",
       "      <td>135751.318893</td>\n",
       "      <td>1.000000</td>\n",
       "      <td>407.000000</td>\n",
       "      <td>0.000000</td>\n",
       "    </tr>\n",
       "    <tr>\n",
       "      <th>25%</th>\n",
       "      <td>168703.011202</td>\n",
       "      <td>5.000000</td>\n",
       "      <td>1117.500000</td>\n",
       "      <td>1.000000</td>\n",
       "    </tr>\n",
       "    <tr>\n",
       "      <th>50%</th>\n",
       "      <td>179208.665698</td>\n",
       "      <td>6.000000</td>\n",
       "      <td>1432.000000</td>\n",
       "      <td>2.000000</td>\n",
       "    </tr>\n",
       "    <tr>\n",
       "      <th>75%</th>\n",
       "      <td>186789.409363</td>\n",
       "      <td>7.000000</td>\n",
       "      <td>1721.000000</td>\n",
       "      <td>2.000000</td>\n",
       "    </tr>\n",
       "    <tr>\n",
       "      <th>max</th>\n",
       "      <td>281643.976117</td>\n",
       "      <td>10.000000</td>\n",
       "      <td>5095.000000</td>\n",
       "      <td>5.000000</td>\n",
       "    </tr>\n",
       "  </tbody>\n",
       "</table>\n",
       "</div>"
      ],
      "text/plain": [
       "           SalePrice  OverallQual    GrLivArea   GarageCars\n",
       "count    1459.000000  1459.000000  1459.000000  1458.000000\n",
       "mean   179183.918243     6.078821  1486.045922     1.766118\n",
       "std     16518.303051     1.436812   485.566099     0.775945\n",
       "min    135751.318893     1.000000   407.000000     0.000000\n",
       "25%    168703.011202     5.000000  1117.500000     1.000000\n",
       "50%    179208.665698     6.000000  1432.000000     2.000000\n",
       "75%    186789.409363     7.000000  1721.000000     2.000000\n",
       "max    281643.976117    10.000000  5095.000000     5.000000"
      ]
     },
     "execution_count": 23,
     "metadata": {},
     "output_type": "execute_result"
    }
   ],
   "source": [
    "summary_stats = db3[['SalePrice', 'OverallQual', 'GrLivArea', 'GarageCars']].describe()\n",
    "summary_stats"
   ]
  },
  {
   "cell_type": "code",
   "execution_count": 24,
   "id": "39a05d62-de79-4be7-8ad3-8baae81e8bae",
   "metadata": {},
   "outputs": [
    {
     "name": "stdout",
     "output_type": "stream",
     "text": [
      "Requirement already satisfied: scikit-learn in c:\\users\\geny_\\onedrive\\рабочий стол\\обучение\\разметка данных\\hw_8\\hw_81\\pythonproject1\\.venv\\lib\\site-packages (1.6.0)Note: you may need to restart the kernel to use updated packages.\n",
      "\n",
      "Requirement already satisfied: numpy>=1.19.5 in c:\\users\\geny_\\onedrive\\рабочий стол\\обучение\\разметка данных\\hw_8\\hw_81\\pythonproject1\\.venv\\lib\\site-packages (from scikit-learn) (2.2.1)\n",
      "Requirement already satisfied: scipy>=1.6.0 in c:\\users\\geny_\\onedrive\\рабочий стол\\обучение\\разметка данных\\hw_8\\hw_81\\pythonproject1\\.venv\\lib\\site-packages (from scikit-learn) (1.14.1)\n",
      "Requirement already satisfied: joblib>=1.2.0 in c:\\users\\geny_\\onedrive\\рабочий стол\\обучение\\разметка данных\\hw_8\\hw_81\\pythonproject1\\.venv\\lib\\site-packages (from scikit-learn) (1.4.2)\n",
      "Requirement already satisfied: threadpoolctl>=3.1.0 in c:\\users\\geny_\\onedrive\\рабочий стол\\обучение\\разметка данных\\hw_8\\hw_81\\pythonproject1\\.venv\\lib\\site-packages (from scikit-learn) (3.5.0)\n"
     ]
    },
    {
     "name": "stderr",
     "output_type": "stream",
     "text": [
      "\n",
      "[notice] A new release of pip is available: 23.2.1 -> 24.3.1\n",
      "[notice] To update, run: python.exe -m pip install --upgrade pip\n"
     ]
    }
   ],
   "source": [
    "pip install scikit-learn"
   ]
  },
  {
   "cell_type": "code",
   "execution_count": 25,
   "id": "84ad6e14-8f96-4f10-9614-5465278f7c71",
   "metadata": {},
   "outputs": [],
   "source": [
    "from scipy import stats\n",
    "from scipy.stats.mstats import winsorize\n",
    "from sklearn.preprocessing import StandardScaler"
   ]
  },
  {
   "cell_type": "code",
   "execution_count": 26,
   "id": "58f49679-4267-425c-86c3-0ec8e4e6205f",
   "metadata": {},
   "outputs": [],
   "source": [
    "z_scores = stats.zscore(db3['SalePrice'])\n",
    "treshold = 3\n",
    "outliers = db3['SalePrice'][z_scores > treshold]\n",
    "db.loc[z_scores > treshold, 'SalePrice'] = db3['SalePrice'].median()"
   ]
  },
  {
   "cell_type": "code",
   "execution_count": 27,
   "id": "c657f745-6d43-4c48-9ae0-fcd63c7ca4bd",
   "metadata": {},
   "outputs": [
    {
     "data": {
      "image/png": "[encoded data removed]",
      "text/plain": [
       "<Figure size 640x480 with 1 Axes>"
      ]
     },
     "metadata": {},
     "output_type": "display_data"
    }
   ],
   "source": [
    "plt.hist(db3['SalePrice'])\n",
    "plt.show()\n"
   ]
  },
  {
   "cell_type": "code",
   "execution_count": 28,
   "id": "d316f18a-3498-4c25-9664-84cfd6f5ecca",
   "metadata": {},
   "outputs": [],
   "source": [
    "z_scores = stats.zscore(db3['OverallQual'])\n",
    "treshold = 3\n",
    "outliers = db3['OverallQual'][z_scores > treshold]\n",
    "db.loc[z_scores > treshold, 'OverallQual'] = db3['OverallQual'].median()"
   ]
  },
  {
   "cell_type": "code",
   "execution_count": 29,
   "id": "a0069100-46ea-4270-beb1-f746beb472ae",
   "metadata": {},
   "outputs": [
    {
     "data": {
      "image/png": "[encoded data removed]",
      "text/plain": [
       "<Figure size 640x480 with 1 Axes>"
      ]
     },
     "metadata": {},
     "output_type": "display_data"
    }
   ],
   "source": [
    "plt.hist(db3['OverallQual'])\n",
    "plt.show()"
   ]
  },
  {
   "cell_type": "code",
   "execution_count": 30,
   "id": "3eb82ea5-8508-4169-a136-17e0417c271d",
   "metadata": {},
   "outputs": [],
   "source": [
    "z_scores = stats.zscore(db3['GrLivArea'])\n",
    "treshold = 3\n",
    "outliers = db3['GrLivArea'][z_scores > treshold]\n",
    "db.loc[z_scores > treshold, 'GrLivArea'] = db3['GrLivArea'].median()"
   ]
  },
  {
   "cell_type": "code",
   "execution_count": 31,
   "id": "da38c3f6-26cd-43b3-a1a9-d923295503e9",
   "metadata": {},
   "outputs": [
    {
     "data": {
      "image/png": "[encoded data removed]",
      "text/plain": [
       "<Figure size 640x480 with 1 Axes>"
      ]
     },
     "metadata": {},
     "output_type": "display_data"
    }
   ],
   "source": [
    "plt.hist(db3['GrLivArea'])\n",
    "plt.show()"
   ]
  },
  {
   "cell_type": "code",
   "execution_count": 32,
   "id": "d40e08c7-63dc-48aa-b03e-00b352bc6d90",
   "metadata": {},
   "outputs": [],
   "source": [
    "z_scores = stats.zscore(db3['GarageCars'])\n",
    "treshold = 3\n",
    "outliers = db3['GarageCars'][z_scores > treshold]\n",
    "db.loc[z_scores > treshold, 'GarageCars'] = db3['GarageCars'].median()"
   ]
  },
  {
   "cell_type": "code",
   "execution_count": 33,
   "id": "a53ba47e-d3cd-4e80-80e8-3ba78575771b",
   "metadata": {},
   "outputs": [
    {
     "data": {
      "image/png": "[encoded data removed]",
      "text/plain": [
       "<Figure size 640x480 with 1 Axes>"
      ]
     },
     "metadata": {},
     "output_type": "display_data"
    }
   ],
   "source": [
    "plt.hist(db3['GarageCars'])\n",
    "plt.show()"
   ]
  },
  {
   "cell_type": "code",
   "execution_count": 34,
   "id": "34f9ae1c-234d-4dd6-b16d-f1f666eb1421",
   "metadata": {},
   "outputs": [],
   "source": [
    "db['SalePrice'] = winsorize(db3['SalePrice'], limits=[0.1, 0.1])\n"
   ]
  },
  {
   "cell_type": "code",
   "execution_count": 35,
   "id": "5dbae461-2367-4d8e-aca6-24d9c5311373",
   "metadata": {},
   "outputs": [
    {
     "data": {
      "image/png": "[encoded data removed]",
      "text/plain": [
       "<Figure size 640x480 with 1 Axes>"
      ]
     },
     "metadata": {},
     "output_type": "display_data"
    }
   ],
   "source": [
    "plt.hist(db3['SalePrice'])\n",
    "plt.show()"
   ]
  },
  {
   "cell_type": "code",
   "execution_count": 40,
   "id": "b56d29f3-0ec8-4ef9-a429-e1fd120e3d5a",
   "metadata": {},
   "outputs": [
    {
     "name": "stderr",
     "output_type": "stream",
     "text": [
      "C:\\Users\\geny_\\AppData\\Local\\Temp\\ipykernel_13148\\4218362624.py:2: SettingWithCopyWarning: \n",
      "A value is trying to be set on a copy of a slice from a DataFrame.\n",
      "Try using .loc[row_indexer,col_indexer] = value instead\n",
      "\n",
      "See the caveats in the documentation: https://pandas.pydata.org/pandas-docs/stable/user_guide/indexing.html#returning-a-view-versus-a-copy\n",
      "  db3[['SalePrice']] = scaler.fit_transform(db3[['SalePrice']])\n"
     ]
    }
   ],
   "source": [
    "scaler = StandardScaler()\n",
    "db3[['SalePrice']] = scaler.fit_transform(db3[['SalePrice']])"
   ]
  },
  {
   "cell_type": "code",
   "execution_count": 41,
   "id": "9a9e45e1-dcea-47e5-9f8b-e5b07ccceeef",
   "metadata": {},
   "outputs": [
    {
     "data": {
      "text/html": [
       "<div>\n",
       "<style scoped>\n",
       "    .dataframe tbody tr th:only-of-type {\n",
       "        vertical-align: middle;\n",
       "    }\n",
       "\n",
       "    .dataframe tbody tr th {\n",
       "        vertical-align: top;\n",
       "    }\n",
       "\n",
       "    .dataframe thead th {\n",
       "        text-align: right;\n",
       "    }\n",
       "</style>\n",
       "<table border=\"1\" class=\"dataframe\">\n",
       "  <thead>\n",
       "    <tr style=\"text-align: right;\">\n",
       "      <th></th>\n",
       "      <th>SalePrice</th>\n",
       "      <th>OverallQual</th>\n",
       "      <th>GrLivArea</th>\n",
       "      <th>GarageCars</th>\n",
       "    </tr>\n",
       "  </thead>\n",
       "  <tbody>\n",
       "    <tr>\n",
       "      <th>0</th>\n",
       "      <td>-0.752638</td>\n",
       "      <td>5</td>\n",
       "      <td>896</td>\n",
       "      <td>1.0</td>\n",
       "    </tr>\n",
       "    <tr>\n",
       "      <th>1</th>\n",
       "      <td>0.763542</td>\n",
       "      <td>6</td>\n",
       "      <td>1329</td>\n",
       "      <td>1.0</td>\n",
       "    </tr>\n",
       "    <tr>\n",
       "      <th>2</th>\n",
       "      <td>0.421055</td>\n",
       "      <td>5</td>\n",
       "      <td>1629</td>\n",
       "      <td>2.0</td>\n",
       "    </tr>\n",
       "    <tr>\n",
       "      <th>3</th>\n",
       "      <td>0.071063</td>\n",
       "      <td>6</td>\n",
       "      <td>1604</td>\n",
       "      <td>2.0</td>\n",
       "    </tr>\n",
       "    <tr>\n",
       "      <th>4</th>\n",
       "      <td>-1.604485</td>\n",
       "      <td>8</td>\n",
       "      <td>1280</td>\n",
       "      <td>2.0</td>\n",
       "    </tr>\n",
       "  </tbody>\n",
       "</table>\n",
       "</div>"
      ],
      "text/plain": [
       "   SalePrice  OverallQual  GrLivArea  GarageCars\n",
       "0  -0.752638            5        896         1.0\n",
       "1   0.763542            6       1329         1.0\n",
       "2   0.421055            5       1629         2.0\n",
       "3   0.071063            6       1604         2.0\n",
       "4  -1.604485            8       1280         2.0"
      ]
     },
     "execution_count": 41,
     "metadata": {},
     "output_type": "execute_result"
    }
   ],
   "source": [
    "db3.head()"
   ]
  },
  {
   "cell_type": "code",
   "execution_count": 42,
   "id": "90ab973f-c27b-4980-b076-c028d9f4873b",
   "metadata": {},
   "outputs": [
    {
     "data": {
      "image/png": "[encoded data removed]",
      "text/plain": [
       "<Figure size 640x480 with 1 Axes>"
      ]
     },
     "metadata": {},
     "output_type": "display_data"
    }
   ],
   "source": [
    "plt.hist(db3['SalePrice'])\n",
    "plt.show()"
   ]
  },
  {
   "cell_type": "code",
   "execution_count": 43,
   "id": "7ed44fbe-319b-4a23-b06b-a4d877543b12",
   "metadata": {},
   "outputs": [
    {
     "ename": "ImportError",
     "evalue": "cannot import name 'LabelEncode' from 'sklearn.preprocessing' (C:\\Users\\geny_\\OneDrive\\Рабочий стол\\Обучение\\Разметка данных\\HW_8\\HW_81\\pythonProject1\\.venv\\Lib\\site-packages\\sklearn\\preprocessing\\__init__.py)",
     "output_type": "error",
     "traceback": [
      "\u001b[1;31m---------------------------------------------------------------------------\u001b[0m",
      "\u001b[1;31mImportError\u001b[0m                               Traceback (most recent call last)",
      "Cell \u001b[1;32mIn[43], line 1\u001b[0m\n\u001b[1;32m----> 1\u001b[0m \u001b[38;5;28;01mfrom\u001b[39;00m \u001b[38;5;21;01msklearn\u001b[39;00m\u001b[38;5;21;01m.\u001b[39;00m\u001b[38;5;21;01mpreprocessing\u001b[39;00m \u001b[38;5;28;01mimport\u001b[39;00m LabelEncode\n\u001b[0;32m      2\u001b[0m le \u001b[38;5;241m=\u001b[39m LabelEncoder()\n\u001b[0;32m      3\u001b[0m db2[\u001b[38;5;124m'\u001b[39m\u001b[38;5;124mYearBuilt_Encode\u001b[39m\u001b[38;5;124m'\u001b[39m] \u001b[38;5;241m=\u001b[39m le\u001b[38;5;241m.\u001b[39mfit_transfofm(db2[\u001b[38;5;124m'\u001b[39m\u001b[38;5;124mYearBuilt\u001b[39m\u001b[38;5;124m'\u001b[39m])\n",
      "\u001b[1;31mImportError\u001b[0m: cannot import name 'LabelEncode' from 'sklearn.preprocessing' (C:\\Users\\geny_\\OneDrive\\Рабочий стол\\Обучение\\Разметка данных\\HW_8\\HW_81\\pythonProject1\\.venv\\Lib\\site-packages\\sklearn\\preprocessing\\__init__.py)"
     ]
    }
   ],
   "source": [
    "from sklearn.preprocessing import LabelEncode\n",
    "le = LabelEncoder()\n",
    "db2['YearBuilt_Encode'] = le.fit_transfofm(db2['YearBuilt'])\n",
    "db2.head()"
   ]
  },
  {
   "cell_type": "code",
   "execution_count": 44,
   "id": "b0578f55-0250-4c01-86cf-3d42a2e99ab1",
   "metadata": {},
   "outputs": [
    {
     "name": "stdout",
     "output_type": "stream",
     "text": [
      "Requirement already satisfied: scikit-learn in c:\\users\\geny_\\onedrive\\рабочий стол\\обучение\\разметка данных\\hw_8\\hw_81\\pythonproject1\\.venv\\lib\\site-packages (1.6.0)Note: you may need to restart the kernel to use updated packages.\n",
      "\n",
      "Requirement already satisfied: numpy>=1.19.5 in c:\\users\\geny_\\onedrive\\рабочий стол\\обучение\\разметка данных\\hw_8\\hw_81\\pythonproject1\\.venv\\lib\\site-packages (from scikit-learn) (2.2.1)\n",
      "Requirement already satisfied: scipy>=1.6.0 in c:\\users\\geny_\\onedrive\\рабочий стол\\обучение\\разметка данных\\hw_8\\hw_81\\pythonproject1\\.venv\\lib\\site-packages (from scikit-learn) (1.14.1)\n",
      "Requirement already satisfied: joblib>=1.2.0 in c:\\users\\geny_\\onedrive\\рабочий стол\\обучение\\разметка данных\\hw_8\\hw_81\\pythonproject1\\.venv\\lib\\site-packages (from scikit-learn) (1.4.2)\n",
      "Requirement already satisfied: threadpoolctl>=3.1.0 in c:\\users\\geny_\\onedrive\\рабочий стол\\обучение\\разметка данных\\hw_8\\hw_81\\pythonproject1\\.venv\\lib\\site-packages (from scikit-learn) (3.5.0)\n"
     ]
    },
    {
     "name": "stderr",
     "output_type": "stream",
     "text": [
      "\n",
      "[notice] A new release of pip is available: 23.2.1 -> 24.3.1\n",
      "[notice] To update, run: python.exe -m pip install --upgrade pip\n"
     ]
    }
   ],
   "source": [
    "pip install scikit-learn"
   ]
  },
  {
   "cell_type": "code",
   "execution_count": 47,
   "id": "38542d10-b0c2-4994-bf80-adad445354f6",
   "metadata": {},
   "outputs": [
    {
     "data": {
      "text/html": [
       "<div>\n",
       "<style scoped>\n",
       "    .dataframe tbody tr th:only-of-type {\n",
       "        vertical-align: middle;\n",
       "    }\n",
       "\n",
       "    .dataframe tbody tr th {\n",
       "        vertical-align: top;\n",
       "    }\n",
       "\n",
       "    .dataframe thead th {\n",
       "        text-align: right;\n",
       "    }\n",
       "</style>\n",
       "<table border=\"1\" class=\"dataframe\">\n",
       "  <thead>\n",
       "    <tr style=\"text-align: right;\">\n",
       "      <th></th>\n",
       "      <th>Id</th>\n",
       "      <th>SalePrice</th>\n",
       "      <th>MSSubClass</th>\n",
       "      <th>MSZoning</th>\n",
       "      <th>LotFrontage</th>\n",
       "      <th>LotArea</th>\n",
       "      <th>Street</th>\n",
       "      <th>Alley</th>\n",
       "      <th>LotShape</th>\n",
       "      <th>LandContour</th>\n",
       "      <th>...</th>\n",
       "      <th>PoolArea</th>\n",
       "      <th>PoolQC</th>\n",
       "      <th>Fence</th>\n",
       "      <th>MiscFeature</th>\n",
       "      <th>MiscVal</th>\n",
       "      <th>MoSold</th>\n",
       "      <th>YrSold</th>\n",
       "      <th>SaleType</th>\n",
       "      <th>SaleCondition</th>\n",
       "      <th>YearBuilt_Encode</th>\n",
       "    </tr>\n",
       "  </thead>\n",
       "  <tbody>\n",
       "    <tr>\n",
       "      <th>0</th>\n",
       "      <td>1461</td>\n",
       "      <td>169277.052498</td>\n",
       "      <td>20</td>\n",
       "      <td>RH</td>\n",
       "      <td>80.0</td>\n",
       "      <td>11622</td>\n",
       "      <td>Pave</td>\n",
       "      <td>NaN</td>\n",
       "      <td>Reg</td>\n",
       "      <td>Lvl</td>\n",
       "      <td>...</td>\n",
       "      <td>0</td>\n",
       "      <td>NaN</td>\n",
       "      <td>MnPrv</td>\n",
       "      <td>NaN</td>\n",
       "      <td>0</td>\n",
       "      <td>6</td>\n",
       "      <td>2010</td>\n",
       "      <td>WD</td>\n",
       "      <td>Normal</td>\n",
       "      <td>56</td>\n",
       "    </tr>\n",
       "    <tr>\n",
       "      <th>1</th>\n",
       "      <td>1462</td>\n",
       "      <td>187758.393989</td>\n",
       "      <td>20</td>\n",
       "      <td>RL</td>\n",
       "      <td>81.0</td>\n",
       "      <td>14267</td>\n",
       "      <td>Pave</td>\n",
       "      <td>NaN</td>\n",
       "      <td>IR1</td>\n",
       "      <td>Lvl</td>\n",
       "      <td>...</td>\n",
       "      <td>0</td>\n",
       "      <td>NaN</td>\n",
       "      <td>NaN</td>\n",
       "      <td>Gar2</td>\n",
       "      <td>12500</td>\n",
       "      <td>6</td>\n",
       "      <td>2010</td>\n",
       "      <td>WD</td>\n",
       "      <td>Normal</td>\n",
       "      <td>53</td>\n",
       "    </tr>\n",
       "    <tr>\n",
       "      <th>2</th>\n",
       "      <td>1463</td>\n",
       "      <td>183583.683570</td>\n",
       "      <td>60</td>\n",
       "      <td>RL</td>\n",
       "      <td>74.0</td>\n",
       "      <td>13830</td>\n",
       "      <td>Pave</td>\n",
       "      <td>NaN</td>\n",
       "      <td>IR1</td>\n",
       "      <td>Lvl</td>\n",
       "      <td>...</td>\n",
       "      <td>0</td>\n",
       "      <td>NaN</td>\n",
       "      <td>MnPrv</td>\n",
       "      <td>NaN</td>\n",
       "      <td>0</td>\n",
       "      <td>3</td>\n",
       "      <td>2010</td>\n",
       "      <td>WD</td>\n",
       "      <td>Normal</td>\n",
       "      <td>92</td>\n",
       "    </tr>\n",
       "    <tr>\n",
       "      <th>3</th>\n",
       "      <td>1464</td>\n",
       "      <td>179317.477511</td>\n",
       "      <td>60</td>\n",
       "      <td>RL</td>\n",
       "      <td>78.0</td>\n",
       "      <td>9978</td>\n",
       "      <td>Pave</td>\n",
       "      <td>NaN</td>\n",
       "      <td>IR1</td>\n",
       "      <td>Lvl</td>\n",
       "      <td>...</td>\n",
       "      <td>0</td>\n",
       "      <td>NaN</td>\n",
       "      <td>NaN</td>\n",
       "      <td>NaN</td>\n",
       "      <td>0</td>\n",
       "      <td>6</td>\n",
       "      <td>2010</td>\n",
       "      <td>WD</td>\n",
       "      <td>Normal</td>\n",
       "      <td>93</td>\n",
       "    </tr>\n",
       "    <tr>\n",
       "      <th>4</th>\n",
       "      <td>1465</td>\n",
       "      <td>150730.079977</td>\n",
       "      <td>120</td>\n",
       "      <td>RL</td>\n",
       "      <td>43.0</td>\n",
       "      <td>5005</td>\n",
       "      <td>Pave</td>\n",
       "      <td>NaN</td>\n",
       "      <td>IR1</td>\n",
       "      <td>HLS</td>\n",
       "      <td>...</td>\n",
       "      <td>0</td>\n",
       "      <td>NaN</td>\n",
       "      <td>NaN</td>\n",
       "      <td>NaN</td>\n",
       "      <td>0</td>\n",
       "      <td>1</td>\n",
       "      <td>2010</td>\n",
       "      <td>WD</td>\n",
       "      <td>Normal</td>\n",
       "      <td>87</td>\n",
       "    </tr>\n",
       "  </tbody>\n",
       "</table>\n",
       "<p>5 rows × 82 columns</p>\n",
       "</div>"
      ],
      "text/plain": [
       "     Id      SalePrice  MSSubClass MSZoning  LotFrontage  LotArea Street  \\\n",
       "0  1461  169277.052498          20       RH         80.0    11622   Pave   \n",
       "1  1462  187758.393989          20       RL         81.0    14267   Pave   \n",
       "2  1463  183583.683570          60       RL         74.0    13830   Pave   \n",
       "3  1464  179317.477511          60       RL         78.0     9978   Pave   \n",
       "4  1465  150730.079977         120       RL         43.0     5005   Pave   \n",
       "\n",
       "  Alley LotShape LandContour  ... PoolArea PoolQC  Fence MiscFeature MiscVal  \\\n",
       "0   NaN      Reg         Lvl  ...        0    NaN  MnPrv         NaN       0   \n",
       "1   NaN      IR1         Lvl  ...        0    NaN    NaN        Gar2   12500   \n",
       "2   NaN      IR1         Lvl  ...        0    NaN  MnPrv         NaN       0   \n",
       "3   NaN      IR1         Lvl  ...        0    NaN    NaN         NaN       0   \n",
       "4   NaN      IR1         HLS  ...        0    NaN    NaN         NaN       0   \n",
       "\n",
       "  MoSold YrSold SaleType  SaleCondition  YearBuilt_Encode  \n",
       "0      6   2010       WD         Normal                56  \n",
       "1      6   2010       WD         Normal                53  \n",
       "2      3   2010       WD         Normal                92  \n",
       "3      6   2010       WD         Normal                93  \n",
       "4      1   2010       WD         Normal                87  \n",
       "\n",
       "[5 rows x 82 columns]"
      ]
     },
     "execution_count": 47,
     "metadata": {},
     "output_type": "execute_result"
    }
   ],
   "source": [
    "from sklearn.preprocessing import LabelEncoder\n",
    "le = LabelEncoder()\n",
    "db2['YearBuilt_Encode'] = le.fit_transform(db2['YearBuilt'])\n",
    "db2.head()"
   ]
  },
  {
   "cell_type": "code",
   "execution_count": 49,
   "id": "00b0c7ba-d9ae-432a-973c-84fbde844e3e",
   "metadata": {},
   "outputs": [],
   "source": [
    "db2 = pd.get_dummies(db2, columns=['OverallQual'], prefix='OverallQual_', drop_first=True)"
   ]
  },
  {
   "cell_type": "code",
   "execution_count": 50,
   "id": "f76b17ae-79d6-4a95-912d-93c47ecc6f03",
   "metadata": {},
   "outputs": [
    {
     "data": {
      "text/html": [
       "<div>\n",
       "<style scoped>\n",
       "    .dataframe tbody tr th:only-of-type {\n",
       "        vertical-align: middle;\n",
       "    }\n",
       "\n",
       "    .dataframe tbody tr th {\n",
       "        vertical-align: top;\n",
       "    }\n",
       "\n",
       "    .dataframe thead th {\n",
       "        text-align: right;\n",
       "    }\n",
       "</style>\n",
       "<table border=\"1\" class=\"dataframe\">\n",
       "  <thead>\n",
       "    <tr style=\"text-align: right;\">\n",
       "      <th></th>\n",
       "      <th>Id</th>\n",
       "      <th>SalePrice</th>\n",
       "      <th>MSSubClass</th>\n",
       "      <th>MSZoning</th>\n",
       "      <th>LotFrontage</th>\n",
       "      <th>LotArea</th>\n",
       "      <th>Street</th>\n",
       "      <th>Alley</th>\n",
       "      <th>LotShape</th>\n",
       "      <th>LandContour</th>\n",
       "      <th>...</th>\n",
       "      <th>YearBuilt_Encode</th>\n",
       "      <th>OverallQual__2</th>\n",
       "      <th>OverallQual__3</th>\n",
       "      <th>OverallQual__4</th>\n",
       "      <th>OverallQual__5</th>\n",
       "      <th>OverallQual__6</th>\n",
       "      <th>OverallQual__7</th>\n",
       "      <th>OverallQual__8</th>\n",
       "      <th>OverallQual__9</th>\n",
       "      <th>OverallQual__10</th>\n",
       "    </tr>\n",
       "  </thead>\n",
       "  <tbody>\n",
       "    <tr>\n",
       "      <th>0</th>\n",
       "      <td>1461</td>\n",
       "      <td>169277.052498</td>\n",
       "      <td>20</td>\n",
       "      <td>RH</td>\n",
       "      <td>80.0</td>\n",
       "      <td>11622</td>\n",
       "      <td>Pave</td>\n",
       "      <td>NaN</td>\n",
       "      <td>Reg</td>\n",
       "      <td>Lvl</td>\n",
       "      <td>...</td>\n",
       "      <td>56</td>\n",
       "      <td>False</td>\n",
       "      <td>False</td>\n",
       "      <td>False</td>\n",
       "      <td>True</td>\n",
       "      <td>False</td>\n",
       "      <td>False</td>\n",
       "      <td>False</td>\n",
       "      <td>False</td>\n",
       "      <td>False</td>\n",
       "    </tr>\n",
       "    <tr>\n",
       "      <th>1</th>\n",
       "      <td>1462</td>\n",
       "      <td>187758.393989</td>\n",
       "      <td>20</td>\n",
       "      <td>RL</td>\n",
       "      <td>81.0</td>\n",
       "      <td>14267</td>\n",
       "      <td>Pave</td>\n",
       "      <td>NaN</td>\n",
       "      <td>IR1</td>\n",
       "      <td>Lvl</td>\n",
       "      <td>...</td>\n",
       "      <td>53</td>\n",
       "      <td>False</td>\n",
       "      <td>False</td>\n",
       "      <td>False</td>\n",
       "      <td>False</td>\n",
       "      <td>True</td>\n",
       "      <td>False</td>\n",
       "      <td>False</td>\n",
       "      <td>False</td>\n",
       "      <td>False</td>\n",
       "    </tr>\n",
       "    <tr>\n",
       "      <th>2</th>\n",
       "      <td>1463</td>\n",
       "      <td>183583.683570</td>\n",
       "      <td>60</td>\n",
       "      <td>RL</td>\n",
       "      <td>74.0</td>\n",
       "      <td>13830</td>\n",
       "      <td>Pave</td>\n",
       "      <td>NaN</td>\n",
       "      <td>IR1</td>\n",
       "      <td>Lvl</td>\n",
       "      <td>...</td>\n",
       "      <td>92</td>\n",
       "      <td>False</td>\n",
       "      <td>False</td>\n",
       "      <td>False</td>\n",
       "      <td>True</td>\n",
       "      <td>False</td>\n",
       "      <td>False</td>\n",
       "      <td>False</td>\n",
       "      <td>False</td>\n",
       "      <td>False</td>\n",
       "    </tr>\n",
       "    <tr>\n",
       "      <th>3</th>\n",
       "      <td>1464</td>\n",
       "      <td>179317.477511</td>\n",
       "      <td>60</td>\n",
       "      <td>RL</td>\n",
       "      <td>78.0</td>\n",
       "      <td>9978</td>\n",
       "      <td>Pave</td>\n",
       "      <td>NaN</td>\n",
       "      <td>IR1</td>\n",
       "      <td>Lvl</td>\n",
       "      <td>...</td>\n",
       "      <td>93</td>\n",
       "      <td>False</td>\n",
       "      <td>False</td>\n",
       "      <td>False</td>\n",
       "      <td>False</td>\n",
       "      <td>True</td>\n",
       "      <td>False</td>\n",
       "      <td>False</td>\n",
       "      <td>False</td>\n",
       "      <td>False</td>\n",
       "    </tr>\n",
       "    <tr>\n",
       "      <th>4</th>\n",
       "      <td>1465</td>\n",
       "      <td>150730.079977</td>\n",
       "      <td>120</td>\n",
       "      <td>RL</td>\n",
       "      <td>43.0</td>\n",
       "      <td>5005</td>\n",
       "      <td>Pave</td>\n",
       "      <td>NaN</td>\n",
       "      <td>IR1</td>\n",
       "      <td>HLS</td>\n",
       "      <td>...</td>\n",
       "      <td>87</td>\n",
       "      <td>False</td>\n",
       "      <td>False</td>\n",
       "      <td>False</td>\n",
       "      <td>False</td>\n",
       "      <td>False</td>\n",
       "      <td>False</td>\n",
       "      <td>True</td>\n",
       "      <td>False</td>\n",
       "      <td>False</td>\n",
       "    </tr>\n",
       "  </tbody>\n",
       "</table>\n",
       "<p>5 rows × 90 columns</p>\n",
       "</div>"
      ],
      "text/plain": [
       "     Id      SalePrice  MSSubClass MSZoning  LotFrontage  LotArea Street  \\\n",
       "0  1461  169277.052498          20       RH         80.0    11622   Pave   \n",
       "1  1462  187758.393989          20       RL         81.0    14267   Pave   \n",
       "2  1463  183583.683570          60       RL         74.0    13830   Pave   \n",
       "3  1464  179317.477511          60       RL         78.0     9978   Pave   \n",
       "4  1465  150730.079977         120       RL         43.0     5005   Pave   \n",
       "\n",
       "  Alley LotShape LandContour  ... YearBuilt_Encode OverallQual__2  \\\n",
       "0   NaN      Reg         Lvl  ...               56          False   \n",
       "1   NaN      IR1         Lvl  ...               53          False   \n",
       "2   NaN      IR1         Lvl  ...               92          False   \n",
       "3   NaN      IR1         Lvl  ...               93          False   \n",
       "4   NaN      IR1         HLS  ...               87          False   \n",
       "\n",
       "  OverallQual__3 OverallQual__4 OverallQual__5 OverallQual__6 OverallQual__7  \\\n",
       "0          False          False           True          False          False   \n",
       "1          False          False          False           True          False   \n",
       "2          False          False           True          False          False   \n",
       "3          False          False          False           True          False   \n",
       "4          False          False          False          False          False   \n",
       "\n",
       "  OverallQual__8  OverallQual__9  OverallQual__10  \n",
       "0          False           False            False  \n",
       "1          False           False            False  \n",
       "2          False           False            False  \n",
       "3          False           False            False  \n",
       "4           True           False            False  \n",
       "\n",
       "[5 rows x 90 columns]"
      ]
     },
     "execution_count": 50,
     "metadata": {},
     "output_type": "execute_result"
    }
   ],
   "source": [
    "db2.head()"
   ]
  },
  {
   "cell_type": "code",
   "execution_count": 52,
   "id": "df73c227-7ceb-45b1-961a-5db6ee22e0b8",
   "metadata": {},
   "outputs": [],
   "source": [
    "pivot_table = db2.pivot_table(index='MSZoning', columns='OverallQual__5', values='SalePrice', aggfunc='mean')"
   ]
  },
  {
   "cell_type": "code",
   "execution_count": 53,
   "id": "da1c62f6-f41d-4893-82a0-90136334f47f",
   "metadata": {},
   "outputs": [
    {
     "data": {
      "text/html": [
       "<div>\n",
       "<style scoped>\n",
       "    .dataframe tbody tr th:only-of-type {\n",
       "        vertical-align: middle;\n",
       "    }\n",
       "\n",
       "    .dataframe tbody tr th {\n",
       "        vertical-align: top;\n",
       "    }\n",
       "\n",
       "    .dataframe thead th {\n",
       "        text-align: right;\n",
       "    }\n",
       "</style>\n",
       "<table border=\"1\" class=\"dataframe\">\n",
       "  <thead>\n",
       "    <tr style=\"text-align: right;\">\n",
       "      <th>OverallQual__5</th>\n",
       "      <th>False</th>\n",
       "      <th>True</th>\n",
       "    </tr>\n",
       "    <tr>\n",
       "      <th>MSZoning</th>\n",
       "      <th></th>\n",
       "      <th></th>\n",
       "    </tr>\n",
       "  </thead>\n",
       "  <tbody>\n",
       "    <tr>\n",
       "      <th>C (all)</th>\n",
       "      <td>169086.268717</td>\n",
       "      <td>185704.276383</td>\n",
       "    </tr>\n",
       "    <tr>\n",
       "      <th>FV</th>\n",
       "      <td>167234.846586</td>\n",
       "      <td>183967.561549</td>\n",
       "    </tr>\n",
       "    <tr>\n",
       "      <th>RH</th>\n",
       "      <td>174691.320417</td>\n",
       "      <td>166286.840684</td>\n",
       "    </tr>\n",
       "    <tr>\n",
       "      <th>RL</th>\n",
       "      <td>181970.332292</td>\n",
       "      <td>181774.722104</td>\n",
       "    </tr>\n",
       "    <tr>\n",
       "      <th>RM</th>\n",
       "      <td>169568.119764</td>\n",
       "      <td>172109.563565</td>\n",
       "    </tr>\n",
       "  </tbody>\n",
       "</table>\n",
       "</div>"
      ],
      "text/plain": [
       "OverallQual__5          False          True \n",
       "MSZoning                                    \n",
       "C (all)         169086.268717  185704.276383\n",
       "FV              167234.846586  183967.561549\n",
       "RH              174691.320417  166286.840684\n",
       "RL              181970.332292  181774.722104\n",
       "RM              169568.119764  172109.563565"
      ]
     },
     "execution_count": 53,
     "metadata": {},
     "output_type": "execute_result"
    }
   ],
   "source": [
    "pivot_table"
   ]
  },
  {
   "cell_type": "code",
   "execution_count": null,
   "id": "bd8d434a-4129-4441-a688-bc8a2c406ff0",
   "metadata": {},
   "outputs": [],
   "source": []
  }
 ],
 "metadata": {
  "kernelspec": {
   "display_name": "Python 3 (ipykernel)",
   "language": "python",
   "name": "python3"
  },
  "language_info": {
   "codemirror_mode": {
    "name": "ipython",
    "version": 3
   },
   "file_extension": ".py",
   "mimetype": "text/x-python",
   "name": "python",
   "nbconvert_exporter": "python",
   "pygments_lexer": "ipython3",
   "version": "3.12.1"
  }
 },
 "nbformat": 4,
 "nbformat_minor": 5
}
